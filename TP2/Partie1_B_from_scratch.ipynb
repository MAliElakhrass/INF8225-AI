{
 "cells": [
  {
   "cell_type": "markdown",
   "metadata": {},
   "source": [
    "### Import Fashion MNIST dataset"
   ]
  },
  {
   "cell_type": "code",
   "execution_count": 30,
   "metadata": {
    "pycharm": {
     "is_executing": false
    }
   },
   "outputs": [
    {
     "name": "stdout",
     "text": [
      "Requirement already satisfied: wget in c:\\users\\philippe\\anaconda3\\envs\\pytorch\\lib\\site-packages (3.2)\n"
     ],
     "output_type": "stream"
    }
   ],
   "source": [
    "!pip install wget"
   ]
  },
  {
   "cell_type": "code",
   "execution_count": 31,
   "metadata": {
    "pycharm": {
     "is_executing": false
    }
   },
   "outputs": [],
   "source": [
    "import wget\n",
    "from sklearn.model_selection import train_test_split\n",
    "import os\n",
    "import matplotlib.pyplot as plt"
   ]
  },
  {
   "cell_type": "code",
   "execution_count": 32,
   "metadata": {
    "pycharm": {
     "is_executing": false
    }
   },
   "outputs": [],
   "source": [
    "data_path = './data-partie-1'\n",
    "if not os.path.exists(data_path):\n",
    "    os.makedirs(data_path)\n",
    "    \n",
    "if not os.listdir(data_path) :\n",
    "    wget.download('http://fashion-mnist.s3-website.eu-central-1.amazonaws.com/train-images-idx3-ubyte.gz', data_path)\n",
    "    wget.download('http://fashion-mnist.s3-website.eu-central-1.amazonaws.com/train-labels-idx1-ubyte.gz', data_path)\n",
    "    wget.download('http://fashion-mnist.s3-website.eu-central-1.amazonaws.com/t10k-images-idx3-ubyte.gz', data_path)\n",
    "    wget.download('http://fashion-mnist.s3-website.eu-central-1.amazonaws.com/t10k-labels-idx1-ubyte.gz', data_path)"
   ]
  },
  {
   "cell_type": "code",
   "execution_count": 33,
   "metadata": {
    "pycharm": {
     "is_executing": false
    }
   },
   "outputs": [],
   "source": [
    "# https://github.com/zalandoresearch/fashion-mnist/blob/master/utils/mnist_reader.py \n",
    "\n",
    "def load_mnist(path, kind='train'):\n",
    "    import os\n",
    "    import gzip\n",
    "    import numpy as np\n",
    "\n",
    "    \"\"\"Load MNIST data from `path`\"\"\"\n",
    "    labels_path = os.path.join(path,\n",
    "                               '%s-labels-idx1-ubyte.gz'\n",
    "                               % kind)\n",
    "    images_path = os.path.join(path,\n",
    "                               '%s-images-idx3-ubyte.gz'\n",
    "                               % kind)\n",
    "\n",
    "    with gzip.open(labels_path, 'rb') as lbpath:\n",
    "        labels = np.frombuffer(lbpath.read(), dtype=np.uint8,\n",
    "                               offset=8)\n",
    "\n",
    "    with gzip.open(images_path, 'rb') as imgpath:\n",
    "        images = np.frombuffer(imgpath.read(), dtype=np.uint8,\n",
    "                               offset=16).reshape(len(labels), 784)\n",
    "\n",
    "    return images, labels"
   ]
  },
  {
   "cell_type": "code",
   "execution_count": 34,
   "metadata": {
    "pycharm": {
     "is_executing": false
    }
   },
   "outputs": [],
   "source": [
    "X, y = load_mnist(data_path, kind='train')\n",
    "X_test, y_test = load_mnist(data_path, kind='t10k')"
   ]
  },
  {
   "cell_type": "code",
   "execution_count": 35,
   "metadata": {
    "pycharm": {
     "is_executing": false
    }
   },
   "outputs": [],
   "source": [
    "X_train, X_val, y_train, y_val = train_test_split(X, y, test_size=0.15, shuffle=False)"
   ]
  },
  {
   "cell_type": "code",
   "execution_count": 36,
   "metadata": {
    "collapsed": false,
    "jupyter": {
     "outputs_hidden": false
    },
    "pycharm": {
     "is_executing": false,
     "name": "#%%\n"
    }
   },
   "outputs": [
    {
     "name": "stdout",
     "text": [
      "(28, 28)\n"
     ],
     "output_type": "stream"
    },
    {
     "data": {
      "text/plain": "<matplotlib.image.AxesImage at 0x20e8462a9a0>"
     },
     "metadata": {},
     "output_type": "execute_result",
     "execution_count": 36
    },
    {
     "data": {
      "text/plain": "<Figure size 432x288 with 1 Axes>",
      "image/png": "[encoded data removed]"
     },
     "metadata": {
      "needs_background": "light"
     },
     "output_type": "display_data"
    }
   ],
   "source": [
    "print(X_train[1].reshape(28,28).shape)\n",
    "plt.imshow(X_train[1].reshape(28,28))"
   ]
  },
  {
   "cell_type": "code",
   "execution_count": 37,
   "metadata": {
    "pycharm": {
     "is_executing": false
    }
   },
   "outputs": [
    {
     "name": "stdout",
     "text": [
      "(51000, 784)\n(10000, 784)\n(9000, 784)\n"
     ],
     "output_type": "stream"
    }
   ],
   "source": [
    "print(X_train.shape)\n",
    "print(X_test.shape)\n",
    "print(X_val.shape)"
   ]
  },
  {
   "cell_type": "markdown",
   "metadata": {},
   "source": [
    "### Preprocess data"
   ]
  },
  {
   "cell_type": "code",
   "execution_count": 38,
   "metadata": {
    "pycharm": {
     "is_executing": false
    }
   },
   "outputs": [],
   "source": [
    "from sklearn.preprocessing import OneHotEncoder"
   ]
  },
  {
   "cell_type": "code",
   "execution_count": 39,
   "metadata": {
    "pycharm": {
     "is_executing": false
    }
   },
   "outputs": [],
   "source": [
    "def pre_process_data(X_train, y_train, X_test, y_test, X_val, y_val):\n",
    "    # Normalize\n",
    "    X_train = ((X_train / 255.) - 0.1307) / 0.3081\n",
    "    X_test = ((X_test / 255.) - 0.1307) / 0.3081\n",
    "    X_val = ((X_val / 255.) - 0.1307) / 0.3081\n",
    "\n",
    "    enc = OneHotEncoder(sparse=False, categories='auto')\n",
    "    \n",
    "    y_train = enc.fit_transform(y_train.reshape(len(y_train), -1))\n",
    "    y_test = enc.transform(y_test.reshape(len(y_test), -1))\n",
    "    y_val = enc.transform(y_val.reshape(len(y_val), -1))\n",
    "\n",
    "    return X_train, y_train, X_test, y_test, X_val, y_val"
   ]
  },
  {
   "cell_type": "code",
   "execution_count": 40,
   "metadata": {
    "pycharm": {
     "is_executing": false
    }
   },
   "outputs": [],
   "source": [
    "X_train, y_train, X_test, y_test, X_val, y_val = pre_process_data(X_train, y_train, X_test, y_test, X_val, y_val)"
   ]
  },
  {
   "cell_type": "markdown",
   "metadata": {},
   "source": [
    "### Neural Network"
   ]
  },
  {
   "cell_type": "code",
   "execution_count": 41,
   "metadata": {
    "pycharm": {
     "is_executing": false
    }
   },
   "outputs": [],
   "source": [
    "import matplotlib.pyplot as plt\n",
    "import numpy as np"
   ]
  },
  {
   "cell_type": "code",
   "execution_count": 42,
   "metadata": {
    "pycharm": {
     "is_executing": false
    }
   },
   "outputs": [],
   "source": [
    "class NeuralNetwork:\n",
    "    def __init__(self, layers_size, batch_size=64):\n",
    "        self.layers_size = layers_size\n",
    "        self.number_layers = len(self.layers_size)\n",
    "        self.batch_size = batch_size\n",
    "        self.costs = []\n",
    "        self.costs_val = []\n",
    "        self.val_accuracies = []\n",
    "    \n",
    "    \n",
    "    def relu(self, Z):\n",
    "        y = np.copy(Z)\n",
    "        y[y < 0] = 0\n",
    "        return y\n",
    "    \n",
    "    \n",
    "    def softmax(self, Z):\n",
    "        expZ = np.exp(Z - np.max(Z))\n",
    "        return expZ / expZ.sum(axis=0, keepdims=True)\n",
    "    \n",
    "    \n",
    "    def cost_function(self, Y, Y_hat):\n",
    "        return np.mean(- np.sum(Y * np.log(Y_hat.T + 1e-8), axis=1))\n",
    "    \n",
    "    \n",
    "    def feed_forward(self, X, params):\n",
    "        values = {}\n",
    "        \n",
    "        len_layers = len(self.layers_size)\n",
    "        \n",
    "        # hidden layers\n",
    "        values['A0'] = X.T \n",
    "        for i in range(self.number_layers - 1):\n",
    "            values[\"Z\" + str(i + 1)] = np.matmul(params[\"W\" + str(i + 1)], values[\"A\" + str(i)]) + params[\"b\" + str(i + 1)]\n",
    "            values[\"A\" + str(i + 1)] = self.relu(values[\"Z\" + str(i + 1)])\n",
    "            \n",
    "        # output layer  \n",
    "        values[\"Z\" + str(self.number_layers)] = np.matmul(params[\"W\" + str(self.number_layers)], values[\"A\" + str(i + 1)]) + params[\"b\" + str(self.number_layers)]\n",
    "        values[\"A\" + str(self.number_layers)] = self.softmax(values[\"Z\" + str(self.number_layers)])\n",
    "\n",
    "        return values\n",
    "    \n",
    "    \n",
    "    def relu_derivative(self, Z):\n",
    "        y = np.copy(Z)\n",
    "        y[y >= 0] = 1\n",
    "        y[y < 0] = 0\n",
    "        return y \n",
    "    \n",
    "    \n",
    "    def back_propagation(self, X, Y, params, values_ff):\n",
    "        gradients = {}\n",
    "        dW = {}\n",
    "        db = {}\n",
    "        \n",
    "        # reverse output layer (softmax-loss)\n",
    "        dZ = values_ff[\"A\" + str(self.number_layers)] - Y.T\n",
    "\n",
    "        gradients[\"dW\" + str(self.number_layers)] = np.matmul(dZ, values_ff[\"A\" + str(self.number_layers - 1)].T) / self.batch_size\n",
    "        gradients[\"db\" + str(self.number_layers)] = np.sum(dZ, axis=1, keepdims=True) / self.batch_size\n",
    "        \n",
    "        dAPrev = np.matmul(params[\"W\" + str(self.number_layers)].T, dZ)\n",
    "        \n",
    "        for i in range(self.number_layers - 1, 0, -1):\n",
    "            dZ = dAPrev * self.relu_derivative(values_ff[\"Z\" + str(i)])\n",
    "            gradients[\"dW\" + str(i)] = np.matmul(dZ, values_ff[\"A\" + str(i - 1)].T) / self.batch_size\n",
    "            gradients[\"db\" + str(i)] = np.sum(dZ, axis=1, keepdims=True) / self.batch_size\n",
    "            \n",
    "            if i > 1:\n",
    "                dAPrev = np.matmul(params[\"W\" + str(i)].T, dZ)\n",
    "\n",
    "        return gradients\n",
    "    \n",
    "    \n",
    "    def initialize_weights(self):\n",
    "        np.random.seed(42)\n",
    "        \n",
    "        weights = {}\n",
    "        for i in range(1, len(self.layers_size)):\n",
    "            bound = 1. /np.sqrt(self.layers_size[i - 1]) # Pour que les weights et biais soient initialisees de la même facon qu'en pytorch\n",
    "            weights[\"W\" + str(i)] = np.random.uniform(-bound, bound, (self.layers_size[i], self.layers_size[i - 1]))\n",
    "            weights[\"b\" + str(i)] = np.random.uniform(-bound, bound, (self.layers_size[i], 1))\n",
    "        return weights\n",
    "    \n",
    "    \n",
    "    def fit(self, X_train, Y_train, X_val, Y_val, X_test, Y_test, learning_rate=0.01, n_epochs=25):\n",
    "        np.random.seed(42)\n",
    "        \n",
    "        self.layers_size.insert(0, X.shape[1])        \n",
    "        weights = self.initialize_weights()\n",
    "\n",
    "        # train\n",
    "        for epoch in range(n_epochs):\n",
    "            i=0\n",
    "            while (i < X_train.shape[0]):\n",
    "                x_batch = X_train[i:i + self.batch_size]\n",
    "                y_batch = Y_train[i:i + self.batch_size]\n",
    "                i += self.batch_size\n",
    "\n",
    "                values_ff = self.feed_forward(x_batch, weights)\n",
    "                gradients = self.back_propagation(x_batch, y_batch, weights, values_ff)\n",
    "\n",
    "                for j in range(1, self.number_layers + 1):\n",
    "                    weights[\"W\" + str(j)] = weights[\"W\" + str(j)] - learning_rate * gradients[\"dW\" + str(j)]\n",
    "                    weights[\"b\" + str(j)] = weights[\"b\" + str(j)] - learning_rate * gradients[\"db\" + str(j)]\n",
    "\n",
    "            values_ff_train = self.feed_forward(X_train, weights)\n",
    "            train_cost = self.cost_function(Y_train, values_ff_train[\"A\" + str(self.number_layers)])\n",
    "            self.costs.append(train_cost)\n",
    "            values_ff_val = self.feed_forward(X_val, weights)\n",
    "            val_cost = self.cost_function(Y_val, values_ff_val[\"A\" + str(self.number_layers)])\n",
    "            self.costs_val.append(val_cost)\n",
    "            \n",
    "            training_acc = self.get_accuracy(X_train, Y_train, values_ff_train)\n",
    "            validation_acc = self.get_accuracy(X_val, Y_val, values_ff_val)\n",
    "            self.val_accuracies.append(validation_acc)\n",
    "            print(\"Epoch {}: training cost = {}, validation cost = {}, training accuracy = {}, validation accuracy = {}\"\n",
    "                  .format(epoch + 1, train_cost, val_cost, training_acc, validation_acc))\n",
    "\n",
    "        print(\"Training done!\")\n",
    "        \n",
    "        values_ff_test = self.feed_forward(X_test, weights)\n",
    "        test_acc = self.get_accuracy(X_test, Y_test, values_ff_test) \n",
    "        print(\"test accuracy = {}, validation accuracy = {}\".format(test_acc, validation_acc))\n",
    "    \n",
    "    \n",
    "    def get_accuracy(self, X, y, values_ff):\n",
    "        A = values_ff[\"A\" + str(self.number_layers)]\n",
    "        \n",
    "        y_hat = np.argmax(A, axis=0)\n",
    "        Y = np.argmax(y, axis=1)\n",
    "        \n",
    "        scores = Y == y_hat\n",
    "\n",
    "        return np.sum(scores) / len(y)        \n",
    "    \n",
    "    \n",
    "    def plot_cost(self):\n",
    "        plt.figure()\n",
    "        plt.title(\"Loss curve of Python implementation\")\n",
    "        plt.plot(np.arange(len(self.costs)), self.costs)\n",
    "        plt.plot(np.arange(len(self.costs_val)), self.costs_val)\n",
    "        plt.xlabel(\"Epochs\")\n",
    "        plt.ylabel(\"Negative log likelihood\")\n",
    "        plt.legend(['training', 'validation'], loc=\"upper right\")\n",
    "        plt.show()\n",
    "        \n",
    "    def plot_accuracy(self):\n",
    "        plt.figure()\n",
    "        plt.title(\"Accuracy of Python implementation\")\n",
    "        plt.plot(np.arange(len(self.val_accuracies)), self.val_accuracies)\n",
    "        plt.xlabel(\"Epochs\")\n",
    "        plt.ylabel(\"Validation Accuracy\")\n",
    "        plt.legend(['validation'], loc=\"lower right\")\n",
    "        plt.show()"
   ]
  },
  {
   "cell_type": "code",
   "execution_count": 43,
   "metadata": {
    "pycharm": {
     "is_executing": false,
     "name": "#%%\n"
    }
   },
   "outputs": [
    {
     "name": "stdout",
     "text": [
      "Epoch 1: training cost = 0.5591164038846455, validation cost = 0.567786212504369, training accuracy = 0.8077058823529412, validation accuracy = 0.8056666666666666\n",
      "Epoch 2: training cost = 0.47211715138845556, validation cost = 0.48770968896401923, training accuracy = 0.8351960784313726, validation accuracy = 0.8278888888888889\n",
      "Epoch 3: training cost = 0.433520954995847, validation cost = 0.4521539112419813, training accuracy = 0.8482745098039216, validation accuracy = 0.8427777777777777\n",
      "Epoch 4: training cost = 0.4079945047297149, validation cost = 0.4290848916445183, training accuracy = 0.8566666666666667, validation accuracy = 0.848\n",
      "Epoch 5: training cost = 0.388247504282537, validation cost = 0.41143537139102376, training accuracy = 0.8628627450980392, validation accuracy = 0.8542222222222222\n",
      "Epoch 6: training cost = 0.37240580006097346, validation cost = 0.3979533577999647, training accuracy = 0.8678235294117647, validation accuracy = 0.857\n",
      "Epoch 7: training cost = 0.35852708388009064, validation cost = 0.3869033934260273, training accuracy = 0.8722745098039215, validation accuracy = 0.8617777777777778\n",
      "Epoch 8: training cost = 0.34679167521767623, validation cost = 0.3779190580939279, training accuracy = 0.8758235294117647, validation accuracy = 0.865\n",
      "Epoch 9: training cost = 0.3369522300667978, validation cost = 0.3710329876771578, training accuracy = 0.8790196078431373, validation accuracy = 0.8672222222222222\n",
      "Epoch 10: training cost = 0.3277198241863926, validation cost = 0.36478376805271123, training accuracy = 0.8821764705882353, validation accuracy = 0.8703333333333333\n",
      "Epoch 11: training cost = 0.3189172401623303, validation cost = 0.35878114748049683, training accuracy = 0.885235294117647, validation accuracy = 0.8723333333333333\n",
      "Epoch 12: training cost = 0.31093755341469664, validation cost = 0.354156653389308, training accuracy = 0.8878823529411765, validation accuracy = 0.8732222222222222\n",
      "Epoch 13: training cost = 0.3029744491049039, validation cost = 0.34939839837325753, training accuracy = 0.8906666666666667, validation accuracy = 0.8753333333333333\n",
      "Epoch 14: training cost = 0.29536789859448037, validation cost = 0.34510739646021465, training accuracy = 0.8936862745098039, validation accuracy = 0.8783333333333333\n",
      "Epoch 15: training cost = 0.28838825915971006, validation cost = 0.3415876882747518, training accuracy = 0.8962941176470588, validation accuracy = 0.8795555555555555\n",
      "Epoch 16: training cost = 0.2819739490566902, validation cost = 0.33848624446871306, training accuracy = 0.8987843137254902, validation accuracy = 0.8797777777777778\n",
      "Epoch 17: training cost = 0.2754413788044439, validation cost = 0.33568510565447535, training accuracy = 0.9011176470588236, validation accuracy = 0.8811111111111111\n",
      "Epoch 18: training cost = 0.26956679741422435, validation cost = 0.3334814651018143, training accuracy = 0.9035882352941177, validation accuracy = 0.8814444444444445\n",
      "Epoch 19: training cost = 0.26319956900782665, validation cost = 0.33047583123162594, training accuracy = 0.9057450980392157, validation accuracy = 0.8833333333333333\n",
      "Epoch 20: training cost = 0.2583058942421041, validation cost = 0.3290196397559144, training accuracy = 0.9070784313725491, validation accuracy = 0.8818888888888889\n",
      "Epoch 21: training cost = 0.25236470613592527, validation cost = 0.3266155552135809, training accuracy = 0.9092156862745098, validation accuracy = 0.8825555555555555\n",
      "Epoch 22: training cost = 0.24733285421680282, validation cost = 0.32522313667996827, training accuracy = 0.9110196078431373, validation accuracy = 0.8833333333333333\n",
      "Epoch 23: training cost = 0.24193145995850754, validation cost = 0.3232962830829478, training accuracy = 0.9128627450980392, validation accuracy = 0.8844444444444445\n",
      "Epoch 24: training cost = 0.2369579847937518, validation cost = 0.3218580148634228, training accuracy = 0.9148039215686274, validation accuracy = 0.8845555555555555\n",
      "Epoch 25: training cost = 0.23262898926212858, validation cost = 0.32100840582489076, training accuracy = 0.9164117647058824, validation accuracy = 0.8852222222222222\nTraining done!\ntest accuracy = 0.8772, validation accuracy = 0.8852222222222222\n"
     ],
     "output_type": "stream"
    },
    {
     "data": {
      "text/plain": "<Figure size 432x288 with 1 Axes>",
      "image/png": "[encoded data removed]"
     },
     "metadata": {
      "needs_background": "light"
     },
     "output_type": "display_data"
    },
    {
     "data": {
      "text/plain": "<Figure size 432x288 with 1 Axes>",
      "image/png": "[encoded data removed]"
     },
     "metadata": {
      "needs_background": "light"
     },
     "output_type": "display_data"
    }
   ],
   "source": [
    "layers_dims = [300, 300, 10]\n",
    "nn = NeuralNetwork(layers_dims)\n",
    "\n",
    "nn.fit(X_train, y_train, X_val, y_val, X_test, y_test, 0.01)\n",
    "nn.plot_cost()\n",
    "nn.plot_accuracy()\n",
    "from_scratch_train_loss = nn.costs\n",
    "from_scratch_val_loss = nn.costs_val\n",
    "from_scratch_val_accuracies = nn.val_accuracies\n"
   ]
  },
  {
   "cell_type": "code",
   "execution_count": 44,
   "metadata": {
    "collapsed": false,
    "jupyter": {
     "outputs_hidden": false
    },
    "pycharm": {
     "is_executing": false,
     "name": "#%%\n"
    }
   },
   "outputs": [
    {
     "name": "stdout",
     "text": [
      "Stored 'from_scratch_train_loss' (list)\nStored 'from_scratch_val_loss' (list)\nStored 'from_scratch_val_accuracies' (list)\n"
     ],
     "output_type": "stream"
    }
   ],
   "source": [
    "%store from_scratch_train_loss\n",
    "%store from_scratch_val_loss\n",
    "%store from_scratch_val_accuracies "
   ]
  }
 ],
 "metadata": {
  "kernelspec": {
   "display_name": "Python 3",
   "language": "python",
   "name": "python3"
  },
  "language_info": {
   "codemirror_mode": {
    "name": "ipython",
    "version": 3
   },
   "file_extension": ".py",
   "mimetype": "text/x-python",
   "name": "python",
   "nbconvert_exporter": "python",
   "pygments_lexer": "ipython3",
   "version": "3.7.4"
  },
  "pycharm": {
   "stem_cell": {
    "cell_type": "raw",
    "source": [],
    "metadata": {
     "collapsed": false
    }
   }
  }
 },
 "nbformat": 4,
 "nbformat_minor": 4
}